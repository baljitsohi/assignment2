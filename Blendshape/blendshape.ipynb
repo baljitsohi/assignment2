{
 "cells": [
  {
   "cell_type": "code",
   "execution_count": 8,
   "metadata": {
    "pycharm": {
     "is_executing": false
    }
   },
   "outputs": [],
   "source": [
    "import sys\n",
    "sys.path.append(\"./src\")\n",
    "\n",
    "from pygler.viewer import PyGLer\n",
    "from pygler.model import PyGLerModel,Geometry\n",
    "import numpy as np\n",
    "import cv2\n",
    "\n",
    "import sys\n",
    "import tinyobjloader\n",
    "from OpenGL.GL import *\n",
    "from OpenGL.GLU import *\n",
    "filename = \"cube.obj\""
   ]
  },
  {
   "cell_type": "code",
   "execution_count": 1,
   "metadata": {},
   "outputs": [],
   "source": [
    "reader = tinyobjloader.ObjReader()\n",
    "\n",
    "# Load .obj(and .mtl) using default configuration\n",
    "ret = reader.ParseFromFile(filename)\n",
    "\n",
    "attrib = reader.GetAttrib()\n",
    "print(\"attrib.vertices = \", len(attrib.vertices))\n",
    "print(\"attrib.normals = \", len(attrib.normals))\n",
    "print(\"attrib.texcoords = \", len(attrib.texcoords))\n",
    "\n",
    "# vertex data must be `xyzxyzxyz...`\n",
    "assert len(attrib.vertices) % 3 == 0\n",
    "\n",
    "# normal data must be `xyzxyzxyz...`\n",
    "assert len(attrib.normals) % 3 == 0\n",
    "\n",
    "# texcoords data must be `uvuvuv...`\n",
    "assert len(attrib.texcoords) % 2 == 0\n",
    "\n",
    "for (i, v) in enumerate(attrib.vertices):\n",
    "    print(\"v[{}] = {}\".format(i, v))\n",
    "\n",
    "for (i, v) in enumerate(attrib.normals):\n",
    "    print(\"vn[{}] = {}\".format(i, v))\n",
    "\n",
    "for (i, v) in enumerate(attrib.texcoords):\n",
    "    print(\"vt[{}] = {}\".format(i, v))\n",
    "\n",
    "print(\"numpy_vertices = {}\".format(attrib.numpy_vertices()))\n",
    "\n",
    "shapes = reader.GetShapes()\n",
    "print(\"Num shapes: \", len(shapes))\n",
    "for shape in shapes:\n",
    "    print(shape.name)\n",
    "    print(\"len(num_indices) = {}\".format(len(shape.mesh.indices)))\n",
    "    for (i, idx) in enumerate(shape.mesh.indices):\n",
    "        print(\"[{}] v_idx {}\".format(i, idx.vertex_index))\n",
    "        print(\"[{}] vn_idx {}\".format(i, idx.normal_index))\n",
    "        print(\"[{}] vt_idx {}\".format(i, idx.texcoord_index))\n",
    "    print(\"numpy_indices = {}\".format(shape.mesh.numpy_indices()))\n",
    "    print(\"numpy_num_face_vertices = {}\".format(shape.mesh.numpy_num_face_vertices()))\n",
    "    print(\"numpy_material_ids = {}\".format(shape.mesh.numpy_material_ids()))"
   ]
  },
  {
   "cell_type": "code",
   "execution_count": 2,
   "metadata": {},
   "outputs": [],
   "source": [
    "windowWidth=1024\n",
    "windowHeight=768\n",
    "red,green,blue,alpha = 0.3,0.4,0.5,1.0\n",
    "glClearColor(red,green,blue,alpha)"
   ]
  },
  {
   "cell_type": "code",
   "execution_count": 3,
   "metadata": {},
   "outputs": [],
   "source": [
    "viewer = PyGLer(useFBO=True)\n",
    "viewer.start()"
   ]
  },
  {
   "cell_type": "code",
   "execution_count": 4,
   "metadata": {},
   "outputs": [],
   "source": [
    "tri = PyGLerModel.LoadObj(\"cube.obj\",computeNormals=True)\n",
    "viewer.addModel(tri)"
   ]
  },
  {
   "cell_type": "code",
   "execution_count": 5,
   "metadata": {},
   "outputs": [],
   "source": [
    "depth,bgr = viewer.Convert2BGRD(viewer.capture())"
   ]
  },
  {
   "cell_type": "code",
   "execution_count": 6,
   "metadata": {
    "scrolled": true
   },
   "outputs": [],
   "source": [
    "k=0\n",
    "while k&255!=ord('q'):\n",
    "    depth,bgr = viewer.Convert2BGRD(viewer.capture())\n",
    "    depth = cv2.normalize(depth,None,0,255,cv2.NORM_MINMAX,cv2.CV_8UC1)\n",
    "    cv2.imshow(\"depth\",depth)\n",
    "    k = cv2.waitKey(1)\n",
    "\n",
    "cv2.destroyAllWindows()\n"
   ]
  },
  {
   "cell_type": "code",
   "execution_count": 7,
   "metadata": {},
   "outputs": [],
   "source": [
    "s = 0.5                                                                \n",
    "v = np.array([ s, s, s,1,\n",
    "              -s, s, s,1,\n",
    "              -s,-s, s,1,\n",
    "               s,-s, s,1,\n",
    "               s,-s,-s,1,\n",
    "               s, s,-s,1,\n",
    "              -s, s,-s,1,\n",
    "              -s,-s,-s,1 ],dtype='f').reshape(-1,4)\n",
    "              \n",
    "c = np.array([ 1, 1, 1, 1, \n",
    "               1, 1, 0, 1, \n",
    "               1, 0, 1, 1,\n",
    "               0, 1, 1, 1,\n",
    "               1, 0, 0, 1,\n",
    "               0, 0, 1, 1,\n",
    "               0, 1, 0, 1,\n",
    "               0, 0, 0, 1],dtype='f').reshape(-1,4); \n",
    "\n",
    "t = np.array([0,1,2, 2,3,0,\n",
    "              0,3,5, 5,3,4,\n",
    "              5,6,7, 7,4,5,\n",
    "              1,0,5, 5,6,1,\n",
    "              1,6,7, 7,2,1,\n",
    "              2,7,4, 4,3,2 ],dtype=np.uint32)\n",
    "                                 \n",
    "vertices = np.array( [\n",
    "        [  0, 1, 0, 1.0 ],\n",
    "        [ -1,-1, 0, 1.0 ],\n",
    "        [  1,-1, 0, 1.0 ],\n",
    "        [  2,-1, 0, 1.0 ],\n",
    "        [  4,-1, 0, 1.0 ],\n",
    "        [  4, 1, 0, 1.0 ],\n",
    "        [  2,-1, 0, 1.0 ],\n",
    "        [  4, 1, 0, 1.0 ],\n",
    "        [  2, 1, 0, 1.0 ]\n",
    "    ],'f')\n",
    "\n",
    "triangles = np.array([0,1,2,3,4,5,6,7,8]\n",
    ",np.uint32)\n",
    "\n",
    "colors = np.array([ [ 0,1,0,1 ],\n",
    "                   [ 1,1,0,1 ],\n",
    "                   [ 0,1,1,1 ],\n",
    "                   [ 1,0,0,1 ],\n",
    "                   [ 0,1,0,1 ],\n",
    "                   [ 0,0,1,1 ],\n",
    "                   [ 1,0,0,1 ],\n",
    "                   [ 0,0,1,1 ],\n",
    "                   [ 0,1,1,1 ]],'f')\n"
   ]
  },
  {
   "cell_type": "code",
   "execution_count": null,
   "metadata": {},
   "outputs": [],
   "source": [
    "m = PyGLerModel(\"Test\",Geometry(vertices,triangles=triangles, colors=colors))"
   ]
  },
  {
   "cell_type": "code",
   "execution_count": null,
   "metadata": {},
   "outputs": [],
   "source": [
    "cube = PyGLerModel(\"Cube\",Geometry(vertices = v, triangles=t, colors=c, autoScale=True))"
   ]
  },
  {
   "cell_type": "code",
   "execution_count": null,
   "metadata": {},
   "outputs": [],
   "source": [
    "viewer.addModel(cube)"
   ]
  }
 ],
 "metadata": {
  "kernelspec": {
   "display_name": "Python 3",
   "language": "python",
   "name": "python3"
  },
  "language_info": {
   "codemirror_mode": {
    "name": "ipython",
    "version": 3
   },
   "file_extension": ".py",
   "mimetype": "text/x-python",
   "name": "python",
   "nbconvert_exporter": "python",
   "pygments_lexer": "ipython3",
   "version": "3.7.6"
  },
  "pycharm": {
   "stem_cell": {
    "cell_type": "raw",
    "metadata": {
     "collapsed": false
    },
    "source": []
   }
  }
 },
 "nbformat": 4,
 "nbformat_minor": 1
}
